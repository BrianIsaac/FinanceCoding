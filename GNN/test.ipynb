{
 "cells": [
  {
   "cell_type": "markdown",
   "id": "e6e4220a",
   "metadata": {},
   "source": [
    "### Data Download Pipeline"
   ]
  },
  {
   "cell_type": "code",
   "execution_count": null,
   "id": "b82afc91",
   "metadata": {},
   "outputs": [],
   "source": [
    "%%bash\n",
    "\n",
    "python scripts/make_dataset.py"
   ]
  },
  {
   "cell_type": "code",
   "execution_count": 1,
   "id": "71dd5ddb",
   "metadata": {},
   "outputs": [
    {
     "name": "stdout",
     "output_type": "stream",
     "text": [
      "(3774, 34) (3774, 34)\n",
      "  rebalance_date\n",
      "0     2010-03-31\n",
      "1     2010-06-30\n",
      "2     2010-09-30\n",
      "3     2010-12-31\n",
      "4     2011-03-31    rebalance_date\n",
      "55     2023-12-29\n",
      "56     2024-03-28\n",
      "57     2024-06-28\n",
      "58     2024-09-30\n",
      "59     2024-12-31\n"
     ]
    }
   ],
   "source": [
    "import pandas as pd\n",
    "px = pd.read_parquet(\"processed/prices_clean.parquet\")\n",
    "rets = pd.read_parquet(\"processed/returns_daily.parquet\")\n",
    "rb  = pd.read_csv(\"processed/rebalance_dates.csv\")\n",
    "print(px.shape, rets.shape)          # rows ~ trading days, cols ~ tickers\n",
    "print(rb.head(), rb.tail())          # quarterly dates\n"
   ]
  },
  {
   "cell_type": "code",
   "execution_count": null,
   "id": "fb62fefd",
   "metadata": {},
   "outputs": [],
   "source": []
  },
  {
   "cell_type": "code",
   "execution_count": null,
   "id": "2ac3ed2b",
   "metadata": {},
   "outputs": [],
   "source": []
  },
  {
   "cell_type": "code",
   "execution_count": null,
   "id": "83ffd81c",
   "metadata": {},
   "outputs": [],
   "source": []
  },
  {
   "cell_type": "code",
   "execution_count": null,
   "id": "658b4852",
   "metadata": {},
   "outputs": [],
   "source": []
  },
  {
   "cell_type": "code",
   "execution_count": null,
   "id": "5ca900f1",
   "metadata": {},
   "outputs": [],
   "source": []
  }
 ],
 "metadata": {
  "kernelspec": {
   "display_name": "GNN",
   "language": "python",
   "name": "python3"
  },
  "language_info": {
   "codemirror_mode": {
    "name": "ipython",
    "version": 3
   },
   "file_extension": ".py",
   "mimetype": "text/x-python",
   "name": "python",
   "nbconvert_exporter": "python",
   "pygments_lexer": "ipython3",
   "version": "3.9.9"
  }
 },
 "nbformat": 4,
 "nbformat_minor": 5
}

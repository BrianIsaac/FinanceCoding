{
 "cells": [
  {
   "cell_type": "markdown",
   "id": "d4ba9685",
   "metadata": {},
   "source": [
    "______\n",
    "# Introduction: Natural Language Processing in Finance\n",
    "______\n",
    "When building an NLP pipeline for finance, high-quality textual data such as financial news, earnings call transcipts and analyst commentary is required to feed into models. Below are said accessible sources:\n",
    "\n",
    "## Free Earnings Call Transcripts\n",
    "- MarketBeat: free transcripts for S&P 500 earnings calls, available publicly via their website\n",
    "- Seeking Alpha: comprehensive transcripts including slides and audio (may require sign up)\n",
    "- Quartr: mobile app offering live and recorded earnings call transcripts with global coverage\n",
    "\n",
    "## Financial News and Commentary APIs\n",
    "- MarketAux: free tier API for real-time financial news across 5,000 sources\n",
    "- FinnHub: free real-time news, along with market data like fundamentals and forex\n",
    "- FinancialNewsAPI: aggregates millions of financial news articles with free access\n",
    "- Financial Modelling Prep: free plan for stock news API\n",
    "- StockNewsAPI.com: free endpoint for aggregated stock market news\n",
    "\n",
    "## Datasets for Research and Model Training\n",
    "- NIFTY Financial News Headlines Dataset: Contains 15.7M time aligned headlines and stock prices for 4,775 S&P 500 firms from 1999-2023, available on Hugging face\n",
    "- FNSPIDL: dataset with 29.7M stock prices and 15.7M financial news records, ideal for sentiment and forecasting analysis\n",
    "- ECTSum: earnings call transcripts with expert bullet-point summaries - for summarisation tasks\n",
    "______\n",
    "For sentiment analysis or financial specific natural language extraction we would employ readily available NLP tools - pre-trained domain models or enterprise grade NLP pipelines.\n",
    "\n",
    "## NLP tools for finance\n",
    "- FinBERT: specialised BERT model fine-tuned for financial sentiment analysis, built on top of Hugging Faces transformers. It outputs positive, negative and neutral with corresponding probabilities.\n",
    "- Spark NLP & Spark OCR: enterprise-grade NLP library optimized for scalability on Spark. Includes pipelines for tokenization, NER, sentiment, document classification, plus OCR integration\n",
    "- deepset Haystack: open-source framework for building search, QA, summarization, and RAG pipelines. Integrates with large language models via Hugging Face, OpenAI, Cohere\n",
    "- Contextual AI: enterprise-focused platform for Retrieval-Augmented Generation (RAG), enabling specialised agents for banking and finance\n",
    "- Cohere: large language model APIs for classification, summarization, and financial applications, now with a secure “North for Banking” platform\n",
    "______\n",
    "For the purpose of experimentation we would first be using **MarketAux** for fresh financial news via API, and **FinBERT** for sentiment classification on said financial news.\n",
    "______"
   ]
  },
  {
   "cell_type": "markdown",
   "id": "c2ad16f0",
   "metadata": {},
   "source": [
    "# MaketAux\n",
    "A free market and financial news API. Gives access to global stock market and finance news, including funds, crypto. \n",
    "\n",
    "Link to website and documentation: https://www.marketaux.com/"
   ]
  },
  {
   "cell_type": "code",
   "execution_count": null,
   "id": "5e0a14b0",
   "metadata": {},
   "outputs": [
    {
     "data": {
      "text/plain": [
       "True"
      ]
     },
     "execution_count": 16,
     "metadata": {},
     "output_type": "execute_result"
    }
   ],
   "source": [
    "# import necessary libraries\n",
    "import os\n",
    "from dotenv import load_dotenv\n",
    "\n",
    "# import custom \n",
    "from utils import get_news\n",
    "\n",
    "# load in environment variables\n",
    "load_dotenv()"
   ]
  },
  {
   "cell_type": "code",
   "execution_count": null,
   "id": "df3cb2a5",
   "metadata": {},
   "outputs": [],
   "source": [
    "# load in API key\n",
    "api_key = os.environ.get(\"MARKET_AUX_API_TOKEN\")"
   ]
  },
  {
   "cell_type": "code",
   "execution_count": null,
   "id": "7bf970d0",
   "metadata": {},
   "outputs": [],
   "source": [
    "def get_news(symbols: list[str], api_key: str) -> tuple[int, Union[dict, list]]:\n",
    "    \"\"\"\n",
    "    This functions takes in user defined parameters to generate news\n",
    "    :parameters:\n",
    "    :symbols (List[str]): a list of stock symbols to search\n",
    "    :api_key (str): api key on marketaux \n",
    "    :return: tuple[int, Union[dict, list]]: a tuple of the response code and the reponse text\n",
    "    \"\"\"\n",
    "\n",
    "    # convert symbols list into a string\n",
    "    tickers = \",\".join(symbols)\n",
    "    \n",
    "    # create url for request\n",
    "    url = f\"https://api.marketaux.com/v1/news/all?symbols={tickers}&filter_entities=true&language=en&api_token={api_key}\"\n",
    "\n",
    "    # call marketaux for news\n",
    "    response = requests.get(url)\n",
    "\n",
    "    return response.status_code, response.json"
   ]
  },
  {
   "cell_type": "code",
   "execution_count": null,
   "id": "f0534585",
   "metadata": {},
   "outputs": [
    {
     "name": "stdout",
     "output_type": "stream",
     "text": [
      "Status Code: 200\n",
      "Response Text:\n",
      "{\"meta\":{\"found\":155352,\"returned\":3,\"limit\":3,\"page\":1},\"data\":[{\"uuid\":\"4e0d1f77-3fe6-4302-a6ab-264f53d0ca2b\",\"title\":\"Trump Turns On 'Nice' Carney With Canadian Tech Tax Ultimatum\",\"description\":\"It had all been going so well. Since Mark Carney replaced Justin Trudeau as prime minister, Canada’s relationship with the White House appeared to be functional again, on the mend after President Donald Trump’s tariffs and overtures about making it the “51st state.”\",\"keywords\":\"donald trump, Bloomberg, Mark Carney, Trade Talks\",\"snippet\":\"On Friday, Trump said he’d terminate trade talks with Canada in response to a 3% digital services tax. The levy, which would mainly hit American companies, is...\",\"url\":\"https:\\/\\/www.ndtvprofit.com\\/business\\/trump-turns-on-nice-carney-with-canadian-tech-tax-ultimatum\",\"image_url\":\"https:\\/\\/media.assettype.com\\/bloombergquint%2F2025-06-28%2Fb7t4opya%2F435607393.jpg?w=1200&auto=format%2Ccompress&ogImage=true\",\"language\":\"en\",\"published_at\":\"2025-06-28T05:23:45.000000Z\",\"source\":\"bloombergquint.com\",\"relevance_score\":null,\"entities\":[{\"symbol\":\"AMZN\",\"name\":\"Amazon.com, Inc.\",\"exchange\":null,\"exchange_long\":null,\"country\":\"us\",\"type\":\"equity\",\"industry\":\"Consumer Cyclical\",\"match_score\":17.657822,\"sentiment_score\":-0.4215,\"highlights\":[{\"highlight\":\"The levy, which would mainly hit America[+319 characters]\",\"sentiment\":-0.4215,\"highlighted_in\":\"main_text\"}]}],\"similar\":[]},{\"uuid\":\"07ea83ab-344a-4757-ab5d-3b9389061331\",\"title\":\"Jim Cramer Warns Viewers About FOMO & Discusses These 19 Stocks\",\"description\":\"In a recent appearance on CNBC's Squawk on the Street, Jim Cramer discussed current market sentiment and robotics.\",\"keywords\":\"\",\"snippet\":\"In this piece, we will look at the stocks Jim Cramer recently discussed.\\n\\nIn a recent appearance on CNBC’s Squawk on the Street, Jim Cramer discussed current ...\",\"url\":\"https:\\/\\/www.insidermonkey.com\\/blog\\/jim-cramer-warns-viewers-about-fomo-discusses-these-19-stocks-1558736\\/\",\"image_url\":\"https:\\/\\/d2gr5kl7dt2z3t.cloudfront.net\\/blog\\/wp-content\\/uploads\\/2021\\/10\\/11155422\\/Jim-Cramer-1.jpg\",\"language\":\"en\",\"published_at\":\"2025-06-27T23:48:53.000000Z\",\"source\":\"insidermonkey.com\",\"relevance_score\":null,\"entities\":[{\"symbol\":\"TSLA\",\"name\":\"Tesla, Inc.\",\"exchange\":null,\"exchange_long\":null,\"country\":\"us\",\"type\":\"equity\",\"industry\":\"Consumer Cyclical\",\"match_score\":33.59044,\"sentiment_score\":0.2758,\"highlights\":[{\"highlight\":\"Well I think <em>Tesla<\\/em> ultimately w[+309 characters]\",\"sentiment\":0.6908,\"highlighted_in\":\"main_text\"},{\"highlight\":\"Well I think <em>Tesla<\\/em> ultimately w[+309 characters]\",\"sentiment\":0.6908,\"highlighted_in\":\"main_text\"},{\"highlight\":\"Number of Hedge Fund Holders In Q1 2025:[+328 characters]\",\"sentiment\":0.3612,\"highlighted_in\":\"main_text\"},{\"highlight\":\"(<em>NASDAQ:TSLA<\\/em>) CEO Elon Musk, Cr[+262 characters]\",\"sentiment\":0,\"highlighted_in\":\"main_text\"},{\"highlight\":\"After co-host David Faber pointed out th[+326 characters]\",\"sentiment\":-0.3612,\"highlighted_in\":\"main_text\"},{\"highlight\":\"Well I think <em>Tesla<\\/em> ultimately w[+198 characters]\",\"sentiment\":0.2732,\"highlighted_in\":\"main_text\"}]}],\"similar\":[]},{\"uuid\":\"70ac49f1-a2ce-47e7-ac78-ff2542723f11\",\"title\":\"3 Stocks Hitting All-Time Highs With More Room to Run\",\"description\":\"Market Analysis by  covering: Microsoft Corporation, NVIDIA Corporation, DoorDash Inc, Roblox Corp. Read 's Market Analysis on Investing.com\",\"keywords\":\"\",\"snippet\":\"Investors finally got to celebrate some new all-time highs this week as the Nasdaq-100 posted its first record close since February, boosted by NVIDIA Corp (NAS...\",\"url\":\"https:\\/\\/www.investing.com\\/analysis\\/3-stocks-hitting-alltime-highs-with-more-room-to-run-200662916\",\"image_url\":\"https:\\/\\/i-invdn-com.investing.com\\/redesign\\/images\\/seo\\/investingcom_analysis_og.jpg\",\"language\":\"en\",\"published_at\":\"2025-06-27T21:33:00.000000Z\",\"source\":\"investing.com\",\"relevance_score\":null,\"entities\":[{\"symbol\":\"MSFT\",\"name\":\"Microsoft Corporation\",\"exchange\":null,\"exchange_long\":null,\"country\":\"us\",\"type\":\"equity\",\"industry\":\"Technology\",\"match_score\":19.6763,\"sentiment_score\":-0.54785,\"highlights\":[{\"highlight\":\"<em>Microsoft<\\/em>: A Golden Setup for S[+281 characters]\",\"sentiment\":-0.6369,\"highlighted_in\":\"main_text\"},{\"highlight\":\"<em>Microsoft<\\/em> set several records d[+255 characters]\",\"sentiment\":-0.4588,\"highlighted_in\":\"main_text\"}]}],\"similar\":[]}]}\n",
      "Parsed JSON Response:\n",
      "{'meta': {'found': 155352, 'returned': 3, 'limit': 3, 'page': 1}, 'data': [{'uuid': '4e0d1f77-3fe6-4302-a6ab-264f53d0ca2b', 'title': \"Trump Turns On 'Nice' Carney With Canadian Tech Tax Ultimatum\", 'description': 'It had all been going so well. Since Mark Carney replaced Justin Trudeau as prime minister, Canada’s relationship with the White House appeared to be functional again, on the mend after President Donald Trump’s tariffs and overtures about making it the “51st state.”', 'keywords': 'donald trump, Bloomberg, Mark Carney, Trade Talks', 'snippet': 'On Friday, Trump said he’d terminate trade talks with Canada in response to a 3% digital services tax. The levy, which would mainly hit American companies, is...', 'url': 'https://www.ndtvprofit.com/business/trump-turns-on-nice-carney-with-canadian-tech-tax-ultimatum', 'image_url': 'https://media.assettype.com/bloombergquint%2F2025-06-28%2Fb7t4opya%2F435607393.jpg?w=1200&auto=format%2Ccompress&ogImage=true', 'language': 'en', 'published_at': '2025-06-28T05:23:45.000000Z', 'source': 'bloombergquint.com', 'relevance_score': None, 'entities': [{'symbol': 'AMZN', 'name': 'Amazon.com, Inc.', 'exchange': None, 'exchange_long': None, 'country': 'us', 'type': 'equity', 'industry': 'Consumer Cyclical', 'match_score': 17.657822, 'sentiment_score': -0.4215, 'highlights': [{'highlight': 'The levy, which would mainly hit America[+319 characters]', 'sentiment': -0.4215, 'highlighted_in': 'main_text'}]}], 'similar': []}, {'uuid': '07ea83ab-344a-4757-ab5d-3b9389061331', 'title': 'Jim Cramer Warns Viewers About FOMO & Discusses These 19 Stocks', 'description': \"In a recent appearance on CNBC's Squawk on the Street, Jim Cramer discussed current market sentiment and robotics.\", 'keywords': '', 'snippet': 'In this piece, we will look at the stocks Jim Cramer recently discussed.\\n\\nIn a recent appearance on CNBC’s Squawk on the Street, Jim Cramer discussed current ...', 'url': 'https://www.insidermonkey.com/blog/jim-cramer-warns-viewers-about-fomo-discusses-these-19-stocks-1558736/', 'image_url': 'https://d2gr5kl7dt2z3t.cloudfront.net/blog/wp-content/uploads/2021/10/11155422/Jim-Cramer-1.jpg', 'language': 'en', 'published_at': '2025-06-27T23:48:53.000000Z', 'source': 'insidermonkey.com', 'relevance_score': None, 'entities': [{'symbol': 'TSLA', 'name': 'Tesla, Inc.', 'exchange': None, 'exchange_long': None, 'country': 'us', 'type': 'equity', 'industry': 'Consumer Cyclical', 'match_score': 33.59044, 'sentiment_score': 0.2758, 'highlights': [{'highlight': 'Well I think <em>Tesla</em> ultimately w[+309 characters]', 'sentiment': 0.6908, 'highlighted_in': 'main_text'}, {'highlight': 'Well I think <em>Tesla</em> ultimately w[+309 characters]', 'sentiment': 0.6908, 'highlighted_in': 'main_text'}, {'highlight': 'Number of Hedge Fund Holders In Q1 2025:[+328 characters]', 'sentiment': 0.3612, 'highlighted_in': 'main_text'}, {'highlight': '(<em>NASDAQ:TSLA</em>) CEO Elon Musk, Cr[+262 characters]', 'sentiment': 0, 'highlighted_in': 'main_text'}, {'highlight': 'After co-host David Faber pointed out th[+326 characters]', 'sentiment': -0.3612, 'highlighted_in': 'main_text'}, {'highlight': 'Well I think <em>Tesla</em> ultimately w[+198 characters]', 'sentiment': 0.2732, 'highlighted_in': 'main_text'}]}], 'similar': []}, {'uuid': '70ac49f1-a2ce-47e7-ac78-ff2542723f11', 'title': '3 Stocks Hitting All-Time Highs With More Room to Run', 'description': \"Market Analysis by  covering: Microsoft Corporation, NVIDIA Corporation, DoorDash Inc, Roblox\\xa0Corp. Read 's Market Analysis on Investing.com\", 'keywords': '', 'snippet': 'Investors finally got to celebrate some new all-time highs this week as the Nasdaq-100 posted its first record close since February, boosted by NVIDIA Corp (NAS...', 'url': 'https://www.investing.com/analysis/3-stocks-hitting-alltime-highs-with-more-room-to-run-200662916', 'image_url': 'https://i-invdn-com.investing.com/redesign/images/seo/investingcom_analysis_og.jpg', 'language': 'en', 'published_at': '2025-06-27T21:33:00.000000Z', 'source': 'investing.com', 'relevance_score': None, 'entities': [{'symbol': 'MSFT', 'name': 'Microsoft Corporation', 'exchange': None, 'exchange_long': None, 'country': 'us', 'type': 'equity', 'industry': 'Technology', 'match_score': 19.6763, 'sentiment_score': -0.54785, 'highlights': [{'highlight': '<em>Microsoft</em>: A Golden Setup for S[+281 characters]', 'sentiment': -0.6369, 'highlighted_in': 'main_text'}, {'highlight': '<em>Microsoft</em> set several records d[+255 characters]', 'sentiment': -0.4588, 'highlighted_in': 'main_text'}]}], 'similar': []}]}\n"
     ]
    }
   ],
   "source": []
  },
  {
   "cell_type": "code",
   "execution_count": null,
   "id": "e47e532b",
   "metadata": {},
   "outputs": [],
   "source": []
  }
 ],
 "metadata": {
  "kernelspec": {
   "display_name": "Python (myenv)",
   "language": "python",
   "name": "myenv"
  },
  "language_info": {
   "codemirror_mode": {
    "name": "ipython",
    "version": 3
   },
   "file_extension": ".py",
   "mimetype": "text/x-python",
   "name": "python",
   "nbconvert_exporter": "python",
   "pygments_lexer": "ipython3",
   "version": "3.9.9"
  }
 },
 "nbformat": 4,
 "nbformat_minor": 5
}

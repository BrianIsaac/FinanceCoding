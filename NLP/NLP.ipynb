{
 "cells": [
  {
   "cell_type": "markdown",
   "id": "d4ba9685",
   "metadata": {},
   "source": [
    "______\n",
    "# Natural Language Processing in Finance\n",
    "______\n",
    "When building an NLP pipeline for finance, high-quality textual data such as financial news, earnings call transcipts and analyst commentary is required to feed into models. Below are said accessible sources:\n",
    "\n",
    "## Free Earnings Call Transcripts\n",
    "- MarketBeat: free transcripts for S&P 500 earnings calls, available publicly via their website\n",
    "- Seeking Alpha: comprehensive transcripts including slides and audio (may require sign up)\n",
    "- Quartr: mobile app offering live and recorded earnings call transcripts with global coverage\n",
    "\n",
    "## Financial News and Commentary APIs\n",
    "- MarketAux: free tier API for real-time financial news across 5,000 sources\n",
    "- FinnHub: free real-time news, along with market data like fundamentals and forex\n",
    "- FinancialNewsAPI: aggregates millions of financial news articles with free access\n",
    "- Financial Modelling Prep: free plan for stock news API\n",
    "- StockNewsAPI.com: free endpoint for aggregated stock market news\n",
    "\n",
    "## Datasets for Research and Model Training\n",
    "- NIFTY Financial News Headlines Dataset: Contains 15.7M time aligned headlines and stock prices for 4,775 S&P 500 firms from 1999-2023, available on Hugging face\n",
    "- FNSPIDL: dataset with 29.7M stock prices and 15.7M financial news records, ideal for sentiment and forecasting analysis\n",
    "- ECTSum: earnings call transcripts with expert bullet-point summaries - for summarisation tasks\n",
    "______\n",
    "For sentiment analysis or financial specific natural language extraction we would employ readily available NLP tools - pre-trained domain models or enterprise grade NLP pipelines.\n",
    "\n",
    "## NLP tools for finance\n",
    "- FinBERT: specialised BERT model fine-tuned for financial sentiment analysis, built on top of Hugging Faces transformers. It outputs positive, negative and neutral with corresponding probabilities.\n",
    "- Spark NLP & Spark OCR: enterprise-grade NLP library optimized for scalability on Spark. Includes pipelines for tokenization, NER, sentiment, document classification, plus OCR integration\n",
    "- deepset Haystack: open-source framework for building search, QA, summarization, and RAG pipelines. Integrates with large language models via Hugging Face, OpenAI, Cohere\n",
    "- Contextual AI: enterprise-focused platform for Retrieval-Augmented Generation (RAG), enabling specialised agents for banking and finance\n",
    "- Cohere: large language model APIs for classification, summarization, and financial applications, now with a secure “North for Banking” platform\n",
    "______\n",
    "For the purpose of experimentation we would first be using **MarketAux** for fresh financial news via API, and **FinBERT** for sentiment classification on said financial news.\n",
    "______"
   ]
  },
  {
   "cell_type": "markdown",
   "id": "c2ad16f0",
   "metadata": {},
   "source": [
    "# MaketAux\n",
    "A free market and financial news API. Gives access to global stock market and finance news, including funds, crypto. \n",
    "\n",
    "Link to website and documentation: https://www.marketaux.com/"
   ]
  },
  {
   "cell_type": "code",
   "execution_count": 31,
   "id": "5e0a14b0",
   "metadata": {},
   "outputs": [
    {
     "name": "stdout",
     "output_type": "stream",
     "text": [
      "The autoreload extension is already loaded. To reload it, use:\n",
      "  %reload_ext autoreload\n"
     ]
    }
   ],
   "source": [
    "# import necessary libraries\n",
    "import os\n",
    "from dotenv import load_dotenv\n",
    "\n",
    "# import custom \n",
    "from utils import get_marketaux_news\n",
    "\n",
    "# load in environment variables\n",
    "load_dotenv()\n",
    "\n",
    "# autoreload\n",
    "%load_ext autoreload\n",
    "%autoreload 2"
   ]
  },
  {
   "cell_type": "code",
   "execution_count": 32,
   "id": "df3cb2a5",
   "metadata": {},
   "outputs": [],
   "source": [
    "# load in API key\n",
    "api_key = os.environ.get(\"MARKET_AUX_API_TOKEN\")"
   ]
  },
  {
   "cell_type": "code",
   "execution_count": 33,
   "id": "7bf970d0",
   "metadata": {},
   "outputs": [],
   "source": [
    "# get news\n",
    "status, news = get_marketaux_news([\"TSLA\"], api_key)"
   ]
  },
  {
   "cell_type": "code",
   "execution_count": 34,
   "id": "f0534585",
   "metadata": {},
   "outputs": [
    {
     "data": {
      "text/plain": [
       "{'meta': {'found': 74098, 'returned': 3, 'limit': 3, 'page': 1},\n",
       " 'data': [{'uuid': 'd9ee1c1d-6561-4fe8-8bd3-2d6f69de61b1',\n",
       "   'title': 'Why Are Meta Platforms, Microsoft, and Nvidia Outperforming the \"Magnificent Seven\" and the S&P 500?',\n",
       "   'description': 'Meta Platforms, Microsoft, and Nvidia are turning AI investments into concrete results.  Artificial intelligence has helped these companies grow their profit margins.  Meta Platforms (NASDAQ: META), Microsoft (NASDAQ: MSFT), and Nvidia (NASDAQ: NVDA) are knocking on the door of all-time highs, whereas the other four \"Magnificent Seven\" stocks -- Amazon, Alphabet, Tesla, and Apple -- are down year to date.',\n",
       "   'keywords': 'Nvidia, Microsoft, Meta Platforms, Microsoft 365, profit margins, Magnificent Seven',\n",
       "   'snippet': 'The market hates uncertainty, but it also loves companies with a clear vision for growing revenue and converting capital expenditures into free cash flow. Meta,...',\n",
       "   'url': 'https://finance.yahoo.com/news/why-meta-platforms-microsoft-nvidia-134500124.html',\n",
       "   'image_url': 'https://media.zenfs.com/en/motleyfool.com/f030a166bc2c5c5cfa797bb3b75ded65',\n",
       "   'language': 'en',\n",
       "   'published_at': '2025-06-28T13:45:00.000000Z',\n",
       "   'source': 'finance.yahoo.com',\n",
       "   'relevance_score': None,\n",
       "   'entities': [{'symbol': 'TSLA',\n",
       "     'name': 'Tesla, Inc.',\n",
       "     'exchange': None,\n",
       "     'exchange_long': None,\n",
       "     'country': 'us',\n",
       "     'type': 'equity',\n",
       "     'industry': 'Consumer Cyclical',\n",
       "     'match_score': 11.799315,\n",
       "     'sentiment_score': 0.151667,\n",
       "     'highlights': [{'highlight': 'Meta Platforms (NASDAQ: META), Microsoft[+225 characters]',\n",
       "       'sentiment': 0.6808,\n",
       "       'highlighted_in': 'main_text'},\n",
       "      {'highlight': 'Except for <em>Tesla</em> on the high en[+250 characters]',\n",
       "       'sentiment': 0.4111,\n",
       "       'highlighted_in': 'main_text'},\n",
       "      {'highlight': 'The Motley Fool has positions in and rec[+268 characters]',\n",
       "       'sentiment': -0.6369,\n",
       "       'highlighted_in': 'main_text'}]}],\n",
       "   'similar': []},\n",
       "  {'uuid': 'ec3698ca-5125-488a-ab75-413069502c8e',\n",
       "   'title': 'Elon Musk: First Tesla Just Delivered Itself',\n",
       "   'description': 'Tesla Inc. (TSLA) achieved a milestone by autonomously delivering a Model Y SUV from its Austin factory to a customer’s home on June 27, reaching a maximum speed of 72 miles per hour without a human driver or remote operator. The delivery follows the launch of Tesla’s robotaxi service on…',\n",
       "   'keywords': '',\n",
       "   'snippet': 'Tesla Inc. (TSLA) achieved a milestone by autonomously delivering a Model Y SUV from its Austin factory to a customer’s home on June 27, reaching a maximum sp...',\n",
       "   'url': 'https://wallstreetpit.com/127765-elon-musk-first-tesla-just-delivered-itself/',\n",
       "   'image_url': 'https://wallstreetpit.com/wp-content/uploads/2025/01/car-tesla-model-y-G.jpg',\n",
       "   'language': 'en',\n",
       "   'published_at': '2025-06-28T12:23:41.000000Z',\n",
       "   'source': 'wallstreetpit.com',\n",
       "   'relevance_score': None,\n",
       "   'entities': [{'symbol': 'TSLA',\n",
       "     'name': 'Tesla, Inc.',\n",
       "     'exchange': None,\n",
       "     'exchange_long': None,\n",
       "     'country': 'us',\n",
       "     'type': 'equity',\n",
       "     'industry': 'Consumer Cyclical',\n",
       "     'match_score': 35.31823,\n",
       "     'sentiment_score': 0.1841,\n",
       "     'highlights': [{'highlight': '<em>Tesla</em> <em>Inc</em>. (TSLA) achi[+205 characters]',\n",
       "       'sentiment': 0.2023,\n",
       "       'highlighted_in': 'main_text'},\n",
       "      {'highlight': 'Despite challenges like sluggish sales i[+225 characters]',\n",
       "       'sentiment': 0.3758,\n",
       "       'highlighted_in': 'main_text'},\n",
       "      {'highlight': '(TSLA) has taken a significant step in i[+235 characters]',\n",
       "       'sentiment': 0.2023,\n",
       "       'highlighted_in': 'main_text'},\n",
       "      {'highlight': 'Just days earlier, on June 22, 2025, <em[+195 characters]',\n",
       "       'sentiment': -0.1027,\n",
       "       'highlighted_in': 'main_text'},\n",
       "      {'highlight': 'Musk had previewed both the robotaxi ser[+213 characters]',\n",
       "       'sentiment': -0.128,\n",
       "       'highlighted_in': 'main_text'},\n",
       "      {'highlight': 'The autonomous delivery also builds on a[+161 characters]',\n",
       "       'sentiment': 0,\n",
       "       'highlighted_in': 'main_text'},\n",
       "      {'highlight': 'Musk’s vision for <em>Tesla</em> exten[+263 characters]',\n",
       "       'sentiment': 0.9231,\n",
       "       'highlighted_in': 'main_text'},\n",
       "      {'highlight': 'Elon Musk: First <em>Tesla</em> Just Delivered Itself',\n",
       "       'sentiment': 0,\n",
       "       'highlighted_in': 'title'}]}],\n",
       "   'similar': []},\n",
       "  {'uuid': '07ea83ab-344a-4757-ab5d-3b9389061331',\n",
       "   'title': 'Jim Cramer Warns Viewers About FOMO & Discusses These 19 Stocks',\n",
       "   'description': \"In a recent appearance on CNBC's Squawk on the Street, Jim Cramer discussed current market sentiment and robotics.\",\n",
       "   'keywords': '',\n",
       "   'snippet': 'In this piece, we will look at the stocks Jim Cramer recently discussed.\\n\\nIn a recent appearance on CNBC’s Squawk on the Street, Jim Cramer discussed current ...',\n",
       "   'url': 'https://www.insidermonkey.com/blog/jim-cramer-warns-viewers-about-fomo-discusses-these-19-stocks-1558736/',\n",
       "   'image_url': 'https://d2gr5kl7dt2z3t.cloudfront.net/blog/wp-content/uploads/2021/10/11155422/Jim-Cramer-1.jpg',\n",
       "   'language': 'en',\n",
       "   'published_at': '2025-06-27T23:48:53.000000Z',\n",
       "   'source': 'insidermonkey.com',\n",
       "   'relevance_score': None,\n",
       "   'entities': [{'symbol': 'TSLA',\n",
       "     'name': 'Tesla, Inc.',\n",
       "     'exchange': None,\n",
       "     'exchange_long': None,\n",
       "     'country': 'us',\n",
       "     'type': 'equity',\n",
       "     'industry': 'Consumer Cyclical',\n",
       "     'match_score': 33.59044,\n",
       "     'sentiment_score': 0.2758,\n",
       "     'highlights': [{'highlight': 'Well I think <em>Tesla</em> ultimately w[+309 characters]',\n",
       "       'sentiment': 0.6908,\n",
       "       'highlighted_in': 'main_text'},\n",
       "      {'highlight': 'Well I think <em>Tesla</em> ultimately w[+309 characters]',\n",
       "       'sentiment': 0.6908,\n",
       "       'highlighted_in': 'main_text'},\n",
       "      {'highlight': 'Number of Hedge Fund Holders In Q1 2025:[+328 characters]',\n",
       "       'sentiment': 0.3612,\n",
       "       'highlighted_in': 'main_text'},\n",
       "      {'highlight': '(<em>NASDAQ:TSLA</em>) CEO Elon Musk, Cr[+262 characters]',\n",
       "       'sentiment': 0,\n",
       "       'highlighted_in': 'main_text'},\n",
       "      {'highlight': 'After co-host David Faber pointed out th[+326 characters]',\n",
       "       'sentiment': -0.3612,\n",
       "       'highlighted_in': 'main_text'},\n",
       "      {'highlight': 'Well I think <em>Tesla</em> ultimately w[+198 characters]',\n",
       "       'sentiment': 0.2732,\n",
       "       'highlighted_in': 'main_text'}]}],\n",
       "   'similar': []}]}"
      ]
     },
     "execution_count": 34,
     "metadata": {},
     "output_type": "execute_result"
    }
   ],
   "source": [
    "news"
   ]
  },
  {
   "cell_type": "markdown",
   "id": "e6da1b29",
   "metadata": {},
   "source": [
    "_____\n",
    "As one can see from above, the API responses from most of these open source API calls would usually return a title with descriptions on the news and not return full news texts. \n",
    "\n",
    "This does not suit our project which aims to do analysis of full news with FinBERT. Hence, we would be employing other methods to gather news.\n",
    "_____"
   ]
  },
  {
   "cell_type": "markdown",
   "id": "3413c9c5",
   "metadata": {},
   "source": []
  }
 ],
 "metadata": {
  "kernelspec": {
   "display_name": "Python (myenv)",
   "language": "python",
   "name": "myenv"
  },
  "language_info": {
   "codemirror_mode": {
    "name": "ipython",
    "version": 3
   },
   "file_extension": ".py",
   "mimetype": "text/x-python",
   "name": "python",
   "nbconvert_exporter": "python",
   "pygments_lexer": "ipython3",
   "version": "3.9.9"
  }
 },
 "nbformat": 4,
 "nbformat_minor": 5
}

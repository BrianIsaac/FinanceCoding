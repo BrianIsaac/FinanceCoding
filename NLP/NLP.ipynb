{
 "cells": [
  {
   "cell_type": "markdown",
   "id": "d4ba9685",
   "metadata": {},
   "source": [
    "______\n",
    "# Introduction: Natural Language Processing in Finance\n",
    "______\n",
    "When building an NLP pipeline for finance, high-quality textual data such as financial news, earnings call transcipts and analyst commentary is required to feed into models. Below are said accessible sources:\n",
    "\n",
    "## Free Earnings Call Transcripts\n",
    "- MarketBeat: free transcripts for S&P 500 earnings calls, available publicly via their website\n",
    "- Seeking Alpha: comprehensive transcripts including slides and audio (may require sign up)\n",
    "- Quartr: mobile app offering live and recorded earnings call transcripts with global coverage\n",
    "\n",
    "## Financial News and Commentary APIs\n",
    "- MarketAux: free tier API for real-time financial news across 5,000 sources\n",
    "- FinnHub: free real-time news, along with market data like fundamentals and forex\n",
    "- FinancialNewsAPI: aggregates millions of financial news articles with free access\n",
    "- Financial Modelling Prep: free plan for stock news API\n",
    "- StockNewsAPI.com: free endpoint for aggregated stock market news\n",
    "\n",
    "## Datasets for Research and Model Training\n",
    "- NIFTY Financial News Headlines Dataset: Contains 15.7M time aligned headlines and stock prices for 4,775 S&P 500 firms from 1999-2023, available on Hugging face\n",
    "- FNSPIDL: dataset with 29.7M stock prices and 15.7M financial news records, ideal for sentiment and forecasting analysis\n",
    "- ECTSum: earnings call transcripts with expert bullet-point summaries - for summarisation tasks\n",
    "______\n",
    "For sentiment analysis or financial specific natural language extraction we would employ readily available NLP tools - pre-trained domain models or enterprise grade NLP pipelines.\n",
    "\n",
    "## NLP tools for finance\n",
    "- FinBERT: specialised BERT model fine-tuned for financial sentiment analysis, built on top of Hugging Faces transformers. It outputs positive, negative and neutral with corresponding probabilities.\n",
    "- Spark NLP & Spark OCR: enterprise-grade NLP library optimized for scalability on Spark. Includes pipelines for tokenization, NER, sentiment, document classification, plus OCR integration\n",
    "- deepset Haystack: open-source framework for building search, QA, summarization, and RAG pipelines. Integrates with large language models via Hugging Face, OpenAI, Cohere\n",
    "- Contextual AI: enterprise-focused platform for Retrieval-Augmented Generation (RAG), enabling specialised agents for banking and finance\n",
    "- Cohere: large language model APIs for classification, summarization, and financial applications, now with a secure “North for Banking” platform\n",
    "______\n",
    "For the purpose of experimentation we would first be using **MarketAux** for fresh financial news via API, and **FinBERT** for sentiment classification on said financial news.\n",
    "______"
   ]
  },
  {
   "cell_type": "markdown",
   "id": "c2ad16f0",
   "metadata": {},
   "source": [
    "# MaketAux\n",
    "A free market and financial news API. Gives access to global stock market and finance news, including funds, crypto. \n",
    "\n",
    "Link to website and documentation: https://www.marketaux.com/"
   ]
  },
  {
   "cell_type": "markdown",
   "id": "d4246b9e",
   "metadata": {},
   "source": []
  }
 ],
 "metadata": {
  "language_info": {
   "name": "python"
  }
 },
 "nbformat": 4,
 "nbformat_minor": 5
}
